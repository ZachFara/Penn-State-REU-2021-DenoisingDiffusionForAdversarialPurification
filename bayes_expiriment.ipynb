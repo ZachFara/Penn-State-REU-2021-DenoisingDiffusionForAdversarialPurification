{
 "cells": [
  {
   "cell_type": "markdown",
   "metadata": {},
   "source": [
    "Citation: https://machinelearningmastery.com/what-is-bayesian-optimization/"
   ]
  },
  {
   "cell_type": "code",
   "execution_count": 1,
   "metadata": {},
   "outputs": [],
   "source": [
    "import numpy as np\n",
    "import matplotlib.pyplot as plt\n",
    "\n",
    "# objective function\n",
    "def objective(x, noise=0.1):\n",
    "\tnoise = np.random.normal(loc=0, scale=noise)\n",
    "\treturn (x**2 * np.math.sin(5 * np.math.pi * x)**6.0) + noise\n",
    "\n",
    "# grid-based sample of the domain [0,1]\n",
    "x = np.arange(0, 1, 0.01)\n",
    "\n",
    "# sample the domain without noise\n",
    "y_no_noise = np.array([objective(i, 0) for i in x])\n",
    "\n",
    "y = np.array([objective(i) for i in x])"
   ]
  },
  {
   "cell_type": "code",
   "execution_count": 24,
   "metadata": {},
   "outputs": [
    {
     "data": {
      "text/plain": [
       "array([1], dtype=int64)"
      ]
     },
     "execution_count": 24,
     "metadata": {},
     "output_type": "execute_result"
    }
   ],
   "source": [
    "import torch\n",
    "torch.randint(high = 10, size = [1]).numpy()"
   ]
  },
  {
   "cell_type": "code",
   "execution_count": 25,
   "metadata": {},
   "outputs": [
    {
     "data": {
      "text/plain": [
       "[<matplotlib.lines.Line2D at 0x1554e879c40>]"
      ]
     },
     "execution_count": 25,
     "metadata": {},
     "output_type": "execute_result"
    },
    {
     "data": {
      "image/png": "[encoded data removed]",
      "text/plain": [
       "<Figure size 432x288 with 1 Axes>"
      ]
     },
     "metadata": {
      "needs_background": "light"
     },
     "output_type": "display_data"
    }
   ],
   "source": [
    "plt.plot(x,y_no_noise)"
   ]
  },
  {
   "cell_type": "code",
   "execution_count": 47,
   "metadata": {},
   "outputs": [],
   "source": [
    "# define the model\n",
    "from sklearn.gaussian_process import GaussianProcessRegressor\n",
    "model = GaussianProcessRegressor()\n",
    "model.fit(x.reshape(-1, 1),y.reshape(-1, 1))\n",
    "\n",
    "from warnings import catch_warnings,simplefilter\n",
    "def surrogate(model, X):\n",
    "\t# catch any warning generated when making a prediction\n",
    "\twith catch_warnings():\n",
    "\t\t# ignore generated warnings\n",
    "\t\tsimplefilter(\"ignore\")\n",
    "\treturn model.predict(X, return_std=True)\n",
    "\n",
    "def surrogate_2(new_x,x,y):\n",
    "    with catch_warnings():    \n",
    "        simplefilter(\"ignore\")\n",
    "    model = GaussianProcessRegressor()\n",
    "    model.fit(x.reshape(-1, 1),y.reshape(-1, 1))   \n",
    "    return model.predict(new_x, return_std=True)\n",
    "\n"
   ]
  },
  {
   "cell_type": "code",
   "execution_count": 27,
   "metadata": {},
   "outputs": [
    {
     "ename": "TypeError",
     "evalue": "Field elements must be 2- or 3-tuples, got '0'",
     "output_type": "error",
     "traceback": [
      "\u001b[1;31m---------------------------------------------------------------------------\u001b[0m",
      "\u001b[1;31mTypeError\u001b[0m                                 Traceback (most recent call last)",
      "\u001b[1;32mc:\\Users\\zfara\\Desktop\\VScode\\bayes.ipynb Cell 5\u001b[0m in \u001b[0;36m<cell line: 1>\u001b[1;34m()\u001b[0m\n\u001b[1;32m----> <a href='vscode-notebook-cell:/c%3A/Users/zfara/Desktop/VScode/bayes.ipynb#X16sZmlsZQ%3D%3D?line=0'>1</a>\u001b[0m np\u001b[39m.\u001b[39;49marray([\u001b[39m0\u001b[39;49m,\u001b[39m1\u001b[39;49m,\u001b[39m2\u001b[39;49m,\u001b[39m3\u001b[39;49m,\u001b[39m4\u001b[39;49m,\u001b[39m5\u001b[39;49m,\u001b[39m6\u001b[39;49m,\u001b[39m7\u001b[39;49m,\u001b[39m8\u001b[39;49m,\u001b[39m9\u001b[39;49m,\u001b[39m10\u001b[39;49m,\u001b[39m11\u001b[39;49m,\u001b[39m12\u001b[39;49m,\u001b[39m13\u001b[39;49m,\u001b[39m14\u001b[39;49m,\u001b[39m15\u001b[39;49m,\u001b[39m16\u001b[39;49m,\u001b[39m17\u001b[39;49m,\u001b[39m18\u001b[39;49m,\u001b[39m19\u001b[39;49m,\u001b[39m20\u001b[39;49m],[\u001b[39m0\u001b[39;49m,\u001b[39m1\u001b[39;49m,\u001b[39m2\u001b[39;49m,\u001b[39m3\u001b[39;49m,\u001b[39m4\u001b[39;49m,\u001b[39m5\u001b[39;49m,\u001b[39m6\u001b[39;49m,\u001b[39m7\u001b[39;49m,\u001b[39m8\u001b[39;49m,\u001b[39m9\u001b[39;49m,\u001b[39m10\u001b[39;49m,\u001b[39m11\u001b[39;49m,\u001b[39m12\u001b[39;49m,\u001b[39m13\u001b[39;49m,\u001b[39m14\u001b[39;49m,\u001b[39m15\u001b[39;49m,\u001b[39m16\u001b[39;49m,\u001b[39m17\u001b[39;49m,\u001b[39m18\u001b[39;49m,\u001b[39m19\u001b[39;49m,\u001b[39m20\u001b[39;49m])\n",
      "\u001b[1;31mTypeError\u001b[0m: Field elements must be 2- or 3-tuples, got '0'"
     ]
    }
   ],
   "source": [
    "np.array([0,1,2,3,4,5,6,7,8,9,10,11,12,13,14,15,16,17,18,19,20])"
   ]
  },
  {
   "cell_type": "code",
   "execution_count": 48,
   "metadata": {},
   "outputs": [],
   "source": [
    "def plot(X, y, model):\n",
    "\t# scatter plot of inputs and real objective function\n",
    "\tplt.scatter(X, y)\n",
    "\t# line plot of surrogate function across domain\n",
    "\tXsamples = np.array(np.arange(0, 1, 0.001))\n",
    "\tXsamples = Xsamples.reshape(len(Xsamples), 1)\n",
    "\tysamples, _ = surrogate(model, Xsamples)\n",
    "\tplt.plot(Xsamples, ysamples)\n",
    "\t# show the plot\n",
    "\tplt.show()"
   ]
  },
  {
   "cell_type": "code",
   "execution_count": 49,
   "metadata": {},
   "outputs": [],
   "source": [
    "def opt_acquisition(X, y, model):\n",
    "\t# random search, generate random samples\n",
    "\tXsamples = np.random(100)\n",
    "\tXsamples = Xsamples.reshape(len(Xsamples), 1)\n",
    "\t# calculate the acquisition function for each sample\n",
    "\tscores = acquisition(X, Xsamples, model)\n",
    "\t# locate the index of the largest scores\n",
    "\tix = np.argmax(scores)\n",
    "\treturn Xsamples[ix, 0]"
   ]
  },
  {
   "cell_type": "code",
   "execution_count": 58,
   "metadata": {},
   "outputs": [],
   "source": [
    "from scipy.stats import norm\n",
    "# probability of improvement acquisition function\n",
    "def acquisition(X, Xsamples, model):\n",
    "\t# calculate the best surrogate score found so far\n",
    "\tyhat, _ = surrogate(model, X)\n",
    "\tbest = max(yhat)\n",
    "\t# calculate mean and stdev via surrogate function\n",
    "\tmu, std = surrogate(model, Xsamples)\n",
    "\tmu = mu[:, 0]\n",
    "\t# calculate the probability of improvement\n",
    "\tprobs = norm.cdf((mu - best) / (std+1E-9))\n",
    "\treturn probs"
   ]
  },
  {
   "cell_type": "markdown",
   "metadata": {},
   "source": [
    "CMAES"
   ]
  }
 ],
 "metadata": {
  "kernelspec": {
   "display_name": "Python 3.9.13 ('psu_env')",
   "language": "python",
   "name": "python3"
  },
  "language_info": {
   "codemirror_mode": {
    "name": "ipython",
    "version": 3
   },
   "file_extension": ".py",
   "mimetype": "text/x-python",
   "name": "python",
   "nbconvert_exporter": "python",
   "pygments_lexer": "ipython3",
   "version": "3.9.13"
  },
  "orig_nbformat": 4,
  "vscode": {
   "interpreter": {
    "hash": "1028fe41cec8654ebc71273de4774acc5bc526b98fa48d7193f02b81eae34220"
   }
  }
 },
 "nbformat": 4,
 "nbformat_minor": 2
}
